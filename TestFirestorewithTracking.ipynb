{
 "cells": [
  {
   "cell_type": "markdown",
   "metadata": {},
   "source": [
    "# Test out Firestore DB with opencv tracking"
   ]
  },
  {
   "cell_type": "code",
   "execution_count": 1,
   "metadata": {},
   "outputs": [],
   "source": [
    "import cv2, firebase_admin, time\n",
    "from firebase_admin import credentials\n",
    "from firebase_admin import firestore"
   ]
  },
  {
   "cell_type": "markdown",
   "metadata": {},
   "source": [
    "## Initialize Firestore instance and input credential file"
   ]
  },
  {
   "cell_type": "code",
   "execution_count": 2,
   "metadata": {},
   "outputs": [],
   "source": [
    "cred = credentials.Certificate(jsoncred)\n", 
    "firebase_admin.initialize_app(cred)\n",
    "\n",
    "db = firestore.client()"
   ]
  },
  {
   "cell_type": "markdown",
   "metadata": {},
   "source": [
    "## - test with CSRT tracker"
   ]
  },
  {
   "cell_type": "code",
   "execution_count": 3,
   "metadata": {},
   "outputs": [],
   "source": [
    "tracker = cv2.TrackerCSRT_create()"
   ]
  },
  {
   "cell_type": "code",
   "execution_count": 4,
   "metadata": {},
   "outputs": [],
   "source": [
    "v = cv2.VideoCapture(r'walk2.mp4')\n",
    "\n",
    "cameraID = 'campus-harbor-1'"
   ]
  },
  {
   "cell_type": "code",
   "execution_count": 5,
   "metadata": {},
   "outputs": [],
   "source": [
    "i=0\n",
    "ret, frame = v.read()\n",
    "\n",
    "frameID='frame-number-'+str(i)\n",
    "timestamp = time.time()\n",
    "begintime=timestamp\n",
    "\n",
    "cv2.namedWindow('Frame', cv2.WINDOW_NORMAL)\n",
    "cv2.imshow('Frame',frame)\n",
    "fps = v.get(cv2.CAP_PROP_FPS)"
   ]
  },
  {
   "cell_type": "markdown",
   "metadata": {},
   "source": [
    "## Create a database collection for the current camera (or video) and create a document with cam info"
   ]
  },
  {
   "cell_type": "code",
   "execution_count": 6,
   "metadata": {},
   "outputs": [],
   "source": [
    "camera_ref = db.collection(cameraID).document('cameraInfo')\n",
    "\n",
    "camera_ref.set({\n",
    "    \n",
    "    'location':'at the harbor',\n",
    "    'ID':cameraID,\n",
    "    'FrameRate':fps,\n",
    "    'IP Address': '10.0.0.1'\n",
    "})\n",
    "\n",
    "objectID = 'selectedObject-1'"
   ]
  },
  {
   "cell_type": "markdown",
   "metadata": {},
   "source": [
    "## - define a function to collect specified infomation of tracked objects on every frame"
   ]
  },
  {
   "cell_type": "code",
   "execution_count": 7,
   "metadata": {},
   "outputs": [],
   "source": [
    "def setFirestoreDB(cameraID, frameID, timeID, objectID, boundingBox):\n",
    "    frame_ref = db.collection(cameraID).document(frameID)\n",
    "    frame_ref.set({\n",
    "        'objectID':objectID,\n",
    "        'boundingBox':boundingBox,\n",
    "        'timeStamp':timeID\n",
    "    })"
   ]
  },
  {
   "cell_type": "markdown",
   "metadata": {},
   "source": [
    "## -* ensure to select an object or ROI to be tracked from the first frame"
   ]
  },
  {
   "cell_type": "code",
   "execution_count": 8,
   "metadata": {},
   "outputs": [
    {
     "data": {
      "text/plain": [
       "True"
      ]
     },
     "execution_count": 8,
     "metadata": {},
     "output_type": "execute_result"
    }
   ],
   "source": [
    "bb = cv2.selectROI('Frame',frame)\n",
    "tracker.init(frame,bb)"
   ]
  },
  {
   "cell_type": "code",
   "execution_count": 9,
   "metadata": {},
   "outputs": [],
   "source": [
    "setFirestoreDB(cameraID, frameID, timestamp, objectID, bb)"
   ]
  },
  {
   "cell_type": "code",
   "execution_count": 10,
   "metadata": {},
   "outputs": [],
   "source": [
    "while True:\n",
    "    ret, frame = v.read()\n",
    "    \n",
    "    i+=1\n",
    "    frameID='frame-number-'+str(i)\n",
    "    timestamp = time.time()\n",
    "        \n",
    "    if not ret:\n",
    "        break\n",
    "    (success,box) = tracker.update(frame)\n",
    "    \n",
    "    setFirestoreDB(cameraID, frameID, timestamp, objectID, box)\n",
    "    \n",
    "    if success:\n",
    "        (x,y,w,h)=[int(a) for a in box]\n",
    "        cv2.rectangle(frame,(x,y),(x+w,y+h),(255,0,0),2)\n",
    "    cv2.imshow('Frame',frame)\n",
    "    key = cv2.waitKey(5) & 0xFF\n",
    "    if key == ord('q'):\n",
    "        break\n",
    "v.release()\n",
    "cv2.destroyAllWindows()"
   ]
  },
  {
   "cell_type": "markdown",
   "metadata": {},
   "source": [
    "# Sample Query of the database collection to perform specific tasks"
   ]
  },
  {
   "cell_type": "code",
   "execution_count": 11,
   "metadata": {},
   "outputs": [
    {
     "name": "stdout",
     "output_type": "stream",
     "text": [
      "frame-number-176 => {'boundingBox': [-29.529827117919922, 194.1931915283203, 75.47994232177734, 210.11984252929688], 'timeStamp': 1607467688.2888384, 'objectID': 'selectedObject-1'}\n",
      "frame-number-177 => {'timeStamp': 1607467688.479769, 'boundingBox': [-29.657026290893555, 194.06227111816406, 75.47994232177734, 210.11984252929688], 'objectID': 'selectedObject-1'}\n",
      "frame-number-178 => {'objectID': 'selectedObject-1', 'timeStamp': 1607467688.6651442, 'boundingBox': [-29.597820281982422, 193.90892028808594, 75.47994232177734, 210.11984252929688]}\n",
      "frame-number-179 => {'objectID': 'selectedObject-1', 'boundingBox': [-29.326187133789062, 194.32249450683594, 75.47994232177734, 210.11984252929688], 'timeStamp': 1607467688.8613057}\n",
      "frame-number-180 => {'timeStamp': 1607467689.0411499, 'objectID': 'selectedObject-1', 'boundingBox': [-28.787864685058594, 194.1807098388672, 75.47994232177734, 210.11984252929688]}\n"
     ]
    }
   ],
   "source": [
    "docs = db.collection(cameraID).where('timeStamp','>=',begintime+50).where('timeStamp','<',begintime+51).stream()\n",
    "\n",
    "\n",
    "for doc in docs:\n",
    "    print('{} => {}'.format(doc.id, doc.to_dict()))"
   ]
  }
 ],
 "metadata": {
  "kernelspec": {
   "display_name": "Python (TensorFlow)",
   "language": "python",
   "name": "tensorflow"
  },
  "language_info": {
   "codemirror_mode": {
    "name": "ipython",
    "version": 3
   },
   "file_extension": ".py",
   "mimetype": "text/x-python",
   "name": "python",
   "nbconvert_exporter": "python",
   "pygments_lexer": "ipython3",
   "version": "3.7.9"
  }
 },
 "nbformat": 4,
 "nbformat_minor": 4
}
